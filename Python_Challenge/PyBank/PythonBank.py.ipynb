{
 "cells": [
  {
   "cell_type": "code",
   "execution_count": 1,
   "metadata": {},
   "outputs": [],
   "source": [
    "# import dependencies\n",
    "import csv\n"
   ]
  },
  {
   "cell_type": "code",
   "execution_count": 2,
   "metadata": {},
   "outputs": [],
   "source": [
    "# create variables\n",
    "filepath_1 = \"budget_data_1.csv\"\n",
    "filepath_2 = \"budget_data_2.csv\""
   ]
  },
  {
   "cell_type": "code",
   "execution_count": 3,
   "metadata": {},
   "outputs": [],
   "source": [
    "# code\n",
    "total_months = 0\n",
    "total_revenue = 0\n",
    "prev_revenue = 0\n",
    "revenue_change_list = []\n",
    "month_of_change = []\n",
    "greatest_increase = [\"\",0]\n",
    "greatest_decrease = [\"\", 9999999999999999999]"
   ]
  },
  {
   "cell_type": "code",
   "execution_count": 4,
   "metadata": {},
   "outputs": [
    {
     "name": "stdout",
     "output_type": "stream",
     "text": [
      "41\n"
     ]
    }
   ],
   "source": [
    "with open(filepath_1) as revenue_data:\n",
    "    reader = csv.DictReader(revenue_data)\n",
    "    for row in reader:\n",
    "        total_months = total_months + 1\n",
    "print(total_months)        "
   ]
  },
  {
   "cell_type": "code",
   "execution_count": 5,
   "metadata": {},
   "outputs": [
    {
     "name": "stdout",
     "output_type": "stream",
     "text": [
      "18971412\n"
     ]
    }
   ],
   "source": [
    "with open(filepath_1) as revenue_data:\n",
    "    reader = csv.DictReader(revenue_data)\n",
    "    for row in reader:\n",
    "        current_revenue = int(row[\"Revenue\"])\n",
    "        total_revenue = total_revenue + current_revenue\n",
    "print(total_revenue)        \n",
    "        "
   ]
  },
  {
   "cell_type": "code",
   "execution_count": 6,
   "metadata": {},
   "outputs": [
    {
     "name": "stdout",
     "output_type": "stream",
     "text": [
      "21559.365853658535\n",
      "['Nov-12', 0]\n",
      "['', 9999999999999999999]\n"
     ]
    }
   ],
   "source": [
    "with open(filepath_1) as revenue_data:\n",
    "    reader = csv.DictReader(revenue_data)\n",
    "    for row in reader:\n",
    "        \n",
    "#calculate average change in revenue\n",
    "        revenue_change = current_revenue - prev_revenue\n",
    "        revenue_change_list.append(revenue_change)\n",
    "        current_month = row[\"Date\"]\n",
    "        month_of_change.append(current_month)\n",
    "\n",
    "#find greatest increase in revenue\n",
    "        if(revenue_change > greatest_increase [1]):\n",
    "            greatest_increase[0] = current_month\n",
    "            greatest_increase[1] = revenue_change\n",
    "    \n",
    "\n",
    "#find greatest decrease in revenue\n",
    "        if(revenue_change < greatest_increase [1]):\n",
    "            greatest_increase[0] = current_month\n",
    "            greatest_increase[1] = revenue_change\n",
    "        prev_revenue = current_revenue    \n",
    "            \n",
    "avg_change_revenue = sum(revenue_change_list) / len(revenue_change_list)\n",
    "print(avg_change_revenue)\n",
    "print(greatest_increase)\n",
    "print(greatest_decrease)"
   ]
  },
  {
   "cell_type": "code",
   "execution_count": null,
   "metadata": {},
   "outputs": [],
   "source": []
  },
  {
   "cell_type": "code",
   "execution_count": null,
   "metadata": {},
   "outputs": [],
   "source": []
  },
  {
   "cell_type": "code",
   "execution_count": null,
   "metadata": {},
   "outputs": [],
   "source": []
  }
 ],
 "metadata": {
  "kernelspec": {
   "display_name": "Python 3",
   "language": "python",
   "name": "python3"
  },
  "language_info": {
   "codemirror_mode": {
    "name": "ipython",
    "version": 3
   },
   "file_extension": ".py",
   "mimetype": "text/x-python",
   "name": "python",
   "nbconvert_exporter": "python",
   "pygments_lexer": "ipython3",
   "version": "3.6.4"
  }
 },
 "nbformat": 4,
 "nbformat_minor": 2
}
