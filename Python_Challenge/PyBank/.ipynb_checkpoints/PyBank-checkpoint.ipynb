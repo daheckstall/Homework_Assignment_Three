{
 "cells": [
  {
   "cell_type": "code",
   "execution_count": 1,
   "metadata": {},
   "outputs": [],
   "source": [
    "# Dependencies\n",
    "import os\n",
    "import csv"
   ]
  },
  {
   "cell_type": "code",
   "execution_count": 2,
   "metadata": {},
   "outputs": [],
   "source": [
    "# Variables\n",
    "totalMonths = 0\n",
    "totalrevenue = 0\n",
    "monthly_average = []\n",
    "date = []"
   ]
  },
  {
   "cell_type": "code",
   "execution_count": 3,
   "metadata": {},
   "outputs": [],
   "source": [
    "# The avg change in rev btw months over time period\n",
    "def average(numbers):\n",
    "    length = len(numbers)\n",
    "    total = 0.\n",
    "    for number in numbers:\n",
    "        total += number\n",
    "    return total / length"
   ]
  },
  {
   "cell_type": "code",
   "execution_count": 4,
   "metadata": {},
   "outputs": [],
   "source": [
    "# Set path for file\n",
    "budgetCSV = os.path.join('budget_data2.csv')\n",
    "budgetoutput = os.path.join('financial_analysis_report2.txt')"
   ]
  },
  {
   "cell_type": "code",
   "execution_count": 5,
   "metadata": {},
   "outputs": [],
   "source": [
    "# Read in the csv file\n",
    "# The total # of months included\n",
    "\n",
    "with open(budgetCSV, newline = '') as csvfile:\n",
    "\n",
    "    # Split the data on commas\n",
    "    csvreader = csv.reader(csvfile, delimiter=',')\n",
    "    header = next(csvreader)\n",
    "    \n",
    "     \n",
    "    for row in csvreader:\n",
    "        totalMonths = totalMonths + 1\n",
    "        \n",
    "        # total Revenue column   \n",
    "        totalrevenue += int(row[1])\n",
    "        \n",
    "        monthly_average.append(int(row[1]))\n",
    "        date.append(row[0])\n",
    "    "
   ]
  },
  {
   "cell_type": "code",
   "execution_count": 6,
   "metadata": {},
   "outputs": [],
   "source": [
    "# The greatest increase in rev over period\n",
    "max= 0\n",
    "for increase in monthly_average:\n",
    "    if increase > max:\n",
    "        max= increase\n",
    "\n",
    "# for testing\n",
    "#print(max)\n",
    "#print(monthly_average.index(max))"
   ]
  },
  {
   "cell_type": "code",
   "execution_count": 7,
   "metadata": {},
   "outputs": [],
   "source": [
    "# * The greatest decrease in revenue (date and amount) over the entire period\n",
    "min= 0\n",
    "for decrease in monthly_average:\n",
    "    if decrease < min:\n",
    "        min= decrease\n"
   ]
  },
  {
   "cell_type": "code",
   "execution_count": 8,
   "metadata": {},
   "outputs": [
    {
     "name": "stdout",
     "output_type": "stream",
     "text": [
      " Financial Analysis\n",
      "----------------------------------\n",
      "Total Months: 86\n",
      "Total Revenue: $40101634\n",
      "Average Revenue Change: $466298\n",
      "Greatest increase in revenue: Jan-2014 $1181050\n",
      "Greatest decrease in revenue: Oct-2011 $-1038468\n"
     ]
    }
   ],
   "source": [
    "# Financial Analysis report\n",
    "print (\" Financial Analysis\")\n",
    "print (\"----------------------------------\")\n",
    "\n",
    "print(f\"Total Months: {totalMonths}\" )\n",
    "print(f\"Total Revenue: ${int(totalrevenue)}\")\n",
    "print(f\"Average Revenue Change: ${int(average(monthly_average))}\")\n",
    "print(f\"Greatest increase in revenue: {date[int(monthly_average.index(max))]} ${int(max)}\")\n",
    "print(f\"Greatest decrease in revenue: {date[int(monthly_average.index(min))]} ${int(min)}\")"
   ]
  },
  {
   "cell_type": "code",
   "execution_count": 9,
   "metadata": {},
   "outputs": [],
   "source": [
    "# Output to text tile# Output  \n",
    "with open(budgetoutput, 'w', newline ='') as textwriter:\n",
    "    textwriter.write(\"Financial Analysis\\n\")\n",
    "    textwriter.write(\"--------------------------------\\n\")\n",
    "    \n",
    "    textwriter.write(f\"Total Months: {totalMonths}\\n\" )\n",
    "    textwriter.write(f\"Total Revenue: ${int(totalrevenue)}\\n\")\n",
    "    textwriter.write(f\"Average Revenue Change: ${int(average(monthly_average))}\\n\")\n",
    "    textwriter.write(f\"Greatest increase in revenue: {date[int(monthly_average.index(max))]} ${int(max)}\\n\")\n",
    "    textwriter.write(f\"Greatest decrease in revenue: {date[int(monthly_average.index(min))]} ${int(min)}\\n\")\n"
   ]
  }
 ],
 "metadata": {
  "kernelspec": {
   "display_name": "Python 3",
   "language": "python",
   "name": "python3"
  },
  "language_info": {
   "codemirror_mode": {
    "name": "ipython",
    "version": 3
   },
   "file_extension": ".py",
   "mimetype": "text/x-python",
   "name": "python",
   "nbconvert_exporter": "python",
   "pygments_lexer": "ipython3",
   "version": "3.6.4"
  }
 },
 "nbformat": 4,
 "nbformat_minor": 2
}
