{
 "cells": [
  {
   "cell_type": "code",
   "execution_count": 1,
   "metadata": {},
   "outputs": [],
   "source": [
    "import csv"
   ]
  },
  {
   "cell_type": "code",
   "execution_count": 2,
   "metadata": {},
   "outputs": [],
   "source": [
    "file_to_input = \"election_data_2.csv\"\n",
    "file_to_output = \"analysis/election_analysis_2.txt\""
   ]
  },
  {
   "cell_type": "code",
   "execution_count": 8,
   "metadata": {},
   "outputs": [
    {
     "ename": "KeyError",
     "evalue": "'Khan'",
     "output_type": "error",
     "traceback": [
      "\u001b[1;31m---------------------------------------------------------------------------\u001b[0m",
      "\u001b[1;31mKeyError\u001b[0m                                  Traceback (most recent call last)",
      "\u001b[1;32m<ipython-input-8-f0c30a4ab7be>\u001b[0m in \u001b[0;36m<module>\u001b[1;34m()\u001b[0m\n\u001b[0;32m     15\u001b[0m             \u001b[0mcandidate_options\u001b[0m\u001b[1;33m[\u001b[0m\u001b[0mcandidate_name\u001b[0m\u001b[1;33m]\u001b[0m \u001b[1;33m=\u001b[0m \u001b[1;36m1\u001b[0m\u001b[1;33m\u001b[0m\u001b[0m\n\u001b[0;32m     16\u001b[0m \u001b[1;33m\u001b[0m\u001b[0m\n\u001b[1;32m---> 17\u001b[1;33m         \u001b[0mcandidate_votes\u001b[0m\u001b[1;33m[\u001b[0m\u001b[0mcandidate_name\u001b[0m\u001b[1;33m]\u001b[0m \u001b[1;33m=\u001b[0m \u001b[0mcandidate_votes\u001b[0m\u001b[1;33m[\u001b[0m\u001b[0mcandidate_name\u001b[0m\u001b[1;33m]\u001b[0m \u001b[1;33m+\u001b[0m \u001b[1;36m1\u001b[0m\u001b[1;33m\u001b[0m\u001b[0m\n\u001b[0m\u001b[0;32m     18\u001b[0m \u001b[1;33m\u001b[0m\u001b[0m\n\u001b[0;32m     19\u001b[0m \u001b[1;32mwith\u001b[0m \u001b[0mopen\u001b[0m\u001b[1;33m(\u001b[0m\u001b[0mfile_to_out\u001b[0m\u001b[1;33m,\u001b[0m\u001b[1;34m\"w\"\u001b[0m\u001b[1;33m)\u001b[0m \u001b[1;32mas\u001b[0m \u001b[0mtxt_file\u001b[0m\u001b[1;33m:\u001b[0m\u001b[1;33m\u001b[0m\u001b[0m\n",
      "\u001b[1;31mKeyError\u001b[0m: 'Khan'"
     ]
    }
   ],
   "source": [
    "total_votes = 0\n",
    "candidate_options = {}\n",
    "candidate_votes = {}\n",
    "\n",
    "winning_candidates = \"\"\n",
    "winning_count = 0\n",
    "\n",
    "with open (file_to_input) as election_data:\n",
    "    reader = csv.DictReader(election_data)\n",
    "    for row in reader:\n",
    "        total_votes += total_votes\n",
    "        #create list of unique candiate names and count votes for each candidate\n",
    "        candidate_name = row[\"Candidate\"]\n",
    "        if candidate_name not in candidate_options:\n",
    "            candidate_options[candidate_name] = 1\n",
    "        \n",
    "        candidate_votes[candidate_name] = candidate_votes[candidate_name] + 1\n",
    "\n",
    "with open(file_to_out,\"w\") as txt_file:\n",
    "    for candidate in candidate_votes:\n",
    "        votes = candidate_votes.get(candidate)\n",
    "        vote_percentae = float(votes) / float(total_votes) * 100\n",
    "        \n",
    "        if(votes > winning_count):\n",
    "            winning_count = votes\n",
    "            winning_candidate = candidate\n",
    "            \n",
    "        voter_output = f\"{candidate} : {vote_percentage:.3f}% ({votes}\\n)\"\n",
    "        print(voter_output, end=\"\")\n",
    "winning_candidate_summary = (\n",
    "f\"{winning_candidate}\\n\"\n",
    "f\"{winning_count}\")\n",
    "\n",
    "file.write(winning_candidate_summary)\n",
    "\n",
    "\n",
    "\n",
    "        \n",
    "        \n",
    "                \n",
    "            \n"
   ]
  },
  {
   "cell_type": "code",
   "execution_count": null,
   "metadata": {},
   "outputs": [],
   "source": []
  }
 ],
 "metadata": {
  "kernelspec": {
   "display_name": "Python 3",
   "language": "python",
   "name": "python3"
  },
  "language_info": {
   "codemirror_mode": {
    "name": "ipython",
    "version": 3
   },
   "file_extension": ".py",
   "mimetype": "text/x-python",
   "name": "python",
   "nbconvert_exporter": "python",
   "pygments_lexer": "ipython3",
   "version": "3.6.4"
  }
 },
 "nbformat": 4,
 "nbformat_minor": 2
}
