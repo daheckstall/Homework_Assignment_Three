{
 "cells": [
  {
   "cell_type": "code",
   "execution_count": 1,
   "metadata": {},
   "outputs": [
    {
     "ename": "SyntaxError",
     "evalue": "invalid syntax (<ipython-input-1-bb82867bc9cc>, line 32)",
     "output_type": "error",
     "traceback": [
      "\u001b[1;36m  File \u001b[1;32m\"<ipython-input-1-bb82867bc9cc>\"\u001b[1;36m, line \u001b[1;32m32\u001b[0m\n\u001b[1;33m    if (votes > winning_count)\u001b[0m\n\u001b[1;37m                              ^\u001b[0m\n\u001b[1;31mSyntaxError\u001b[0m\u001b[1;31m:\u001b[0m invalid syntax\n"
     ]
    }
   ],
   "source": [
    "import csv\n",
    "\n",
    "file_to_input = \"raw_data/election_data_2.csv\"\n",
    "file_to_output = \"analysis/election_analysis_2.txt\"\n",
    "\n",
    "total_votes = 0\n",
    "candidate_options = []\n",
    "candidate_votes = {}\n",
    "\n",
    "winning_candidate = \"\"\n",
    "winning_count = 0\n",
    "\n",
    "\n",
    "with open(filepath) as election_data:\n",
    "    reader = csv.DictReader(election_data)\n",
    "    for row in reader:\n",
    "        #{'County': 'Marsh', 'Voter ID': '12955160', 'Candidate': 'Correy'}\n",
    "        # count total votes\n",
    "        total_votes += total_votes\n",
    "        # create list of unique candidate names and count votes for each candidate\n",
    "        candidate_name = row[\"Candidate\"]\n",
    "        if candidate_name not in candidate_options:\n",
    "            candidate_options.append(candidate_name)\n",
    "            candidate_votes[candidate_name] = 1\n",
    "        else:\n",
    "            candidate_votes[candidate_name] = candidate_votes[candidate_name] + 1\n",
    "\n",
    "with open(file_to_output, \"w\") as txt_file:\n",
    "    for candidate in candidate_votes:\n",
    "        votes = candidate_votes.get(candidate)\n",
    "        vote_percentage = float(votes) / float(total_votes) * 100\n",
    "\n",
    "        # determine winning vote count and candidate\n",
    "        if (votes > winning_count)\n",
    "            winning_count = votes\n",
    "            winning_candidate = candidate\n",
    "\n",
    "        voter_output = f\"{candidate}: {vote_percentage:.3f}% ({votes})\\n\"\n",
    "        print(voter_output, end=\"\")\n",
    "winning_candidate_summary = (\n",
    "    f\"{winning_candidate}\\n\"\n",
    "    f\"{winning_count}\"\n",
    ")\n",
    "txt_file.write(winning_candidate_summary)"
   ]
  },
  {
   "cell_type": "code",
   "execution_count": null,
   "metadata": {},
   "outputs": [],
   "source": []
  }
 ],
 "metadata": {
  "kernelspec": {
   "display_name": "Python 3",
   "language": "python",
   "name": "python3"
  },
  "language_info": {
   "codemirror_mode": {
    "name": "ipython",
    "version": 3
   },
   "file_extension": ".py",
   "mimetype": "text/x-python",
   "name": "python",
   "nbconvert_exporter": "python",
   "pygments_lexer": "ipython3",
   "version": "3.6.4"
  }
 },
 "nbformat": 4,
 "nbformat_minor": 2
}
