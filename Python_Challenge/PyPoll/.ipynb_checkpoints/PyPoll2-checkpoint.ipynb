{
 "cells": [
  {
   "cell_type": "code",
   "execution_count": 1,
   "metadata": {},
   "outputs": [],
   "source": [
    "import csv\n",
    "\n",
    "file_to_input = \"raw_data/election_data_2.csv\"\n",
    "file_to_output = \"analysis/election_analysis_2.txt\"\n",
    "filepath = \"election_data_2.csv\"\n",
    "\n",
    "#total_votes = 0\n",
    "#candidate_options = []\n",
    "candidate_votes = {}\n",
    "\n",
    "#winning_candidate = \"\"\n",
    "#winning_count = 0\n",
    "\n",
    "data=[]\n"
   ]
  },
  {
   "cell_type": "code",
   "execution_count": 2,
   "metadata": {},
   "outputs": [],
   "source": [
    "with open(filepath) as election_data:\n",
    "    reader = csv.DictReader(election_data)\n",
    "    for row in reader:\n",
    "        \n",
    "        candidate_name = row[\"Candidate\"]\n",
    "       \n",
    "        if candidate_name not in candidate_votes:\n",
    "                      \n",
    "            candidate_votes[candidate_name] = 1\n",
    "            \n",
    "        else:\n",
    "            \n",
    "            candidate_votes[candidate_name] = candidate_votes[candidate_name] +   1\n",
    " \n",
    "\n"
   ]
  },
  {
   "cell_type": "code",
   "execution_count": 13,
   "metadata": {},
   "outputs": [
    {
     "name": "stdout",
     "output_type": "stream",
     "text": [
      "Total Votes: 3521001\n",
      "Khan: 63.0% (2218231)\n",
      "Correy: 20.0% (704200)\n",
      "Li: 14.0% (492940)\n",
      "O'Tooley: 3.0% (105630)\n",
      "Winner: Khan\n"
     ]
    }
   ],
   "source": [
    "total_votes=sum(candidate_votes.values())\n",
    "print(\"Total Votes: {}\".format(total_votes))\n",
    "    \n",
    "winning_votes= max(candidate_votes.values()) \n",
    "\n",
    "\n",
    "for candidate,votes in candidate_votes.items():\n",
    "    print('{}: {:.1f}% ({})'.format(candidate,votes*100/total_votes,votes))\n",
    "    \n",
    "    if votes == winning_votes:\n",
    "        winner = candidate\n",
    "        \n",
    "print(\"Winner: {}\".format(winner))\n",
    "  \n",
    "    \n",
    "    \n",
    "    #votes = candidate_votes.get(candidate)\n",
    "    #vote_percentage = float(votes) / float(total_votes) * 100\n",
    "    "
   ]
  }
 ],
 "metadata": {
  "kernelspec": {
   "display_name": "Python 3",
   "language": "python",
   "name": "python3"
  },
  "language_info": {
   "codemirror_mode": {
    "name": "ipython",
    "version": 3
   },
   "file_extension": ".py",
   "mimetype": "text/x-python",
   "name": "python",
   "nbconvert_exporter": "python",
   "pygments_lexer": "ipython3",
   "version": "3.6.4"
  }
 },
 "nbformat": 4,
 "nbformat_minor": 2
}
